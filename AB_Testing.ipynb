{
 "cells": [
  {
   "cell_type": "markdown",
   "id": "76535596",
   "metadata": {},
   "source": [
    "___\n",
    "\n",
    "<a href=\"https://cdn.ttgtmedia.com/rms/onlineimages/mobile_computing-ab_testing.png\"><img align=\"center\" src=\"https://cdn.ttgtmedia.com/rms/onlineimages/mobile_computing-ab_testing.png\" ></a><br/>\n",
    "\n",
    "## <p style=\"background-color:#FDFEFE; font-family:newtimeroman; color:#060108; font-size:200%; text-align:center; border-radius:10px 10px;\">A/B Testing: Data Science Case Study</p>\n",
    "___\n",
    "\n"
   ]
  },
  {
   "cell_type": "markdown",
   "id": "ab022022",
   "metadata": {},
   "source": [
    "<a id=\"toc\"></a>\n",
    "\n",
    "## <p style=\"background-color:#9d4f8c; font-family:newtimeroman; color:#FFF9ED; font-size:150%; text-align:center; border-radius:10px 10px;\">CONTENT</p>\n",
    "\n",
    "\n",
    "* [CONTEXT](#0)\n",
    "* [ABOUT THE DATASET & ATRIBUTES](#00)\n",
    "* [INSTRUCTIONS (Tasks in the Assignment)](#000)\n",
    "* [IMPORTING LIBRARIES NEEDED IN THIS NOTEBOOK](#1)\n",
    "* [Task 01. Checking the head of the DataFrame](#2)\n",
    "* [Task 02. How many rows and columns are there?](#3)\n",
    "* [Task 03. What is the average Purchase Price?](#4)\n",
    "* [Task 04. What were the highest and lowest purchase prices?](#5) \n",
    "* [Task 05. Listing the country names and number of records belongs to each country](#6)\n",
    "* [Task 06. How many records are as Country United Kingdom?](#7)\n",
    "* [Task 07. Creating a column named Total which shows the total amount of spend using UnitPrice and Quantity](#8)\n",
    "* [Task 08. Showing total spending amount according to the Countries](#9)\n",
    "* [Task 09. Which Country spend least?](#10)\n",
    "* [Task 10. Calculating average of spending according to country with apply function](#11) \n",
    "* [Task 11. Calculating average, mean, max of spending according to country with agg function](#12)\n",
    "* [Task 12. What is the max Total spending in whole dataset and show the records of that spending?](#13)\n",
    "* [Task 13. How many people who live in Spain spend more than average Total?](#14)\n",
    "* [Task 14. Converting datatype of InvoiceDate to datetime and assign it to new column name InvoiceDate2](#15)\n",
    "* [Task 15. Taking only date values (year-month-day) from InvoiceDate2 and assign it to a new column named \"date\"](#16)\n",
    "* [Task 16. Dropping InvoiceDate2 and InvoiceDate columns permanently](#17)\n",
    "* [Task 17. Removing A, B, G and E characters at the first 5 rows of \"StockCode\" in ecom dataframe with a string method](#18) \n",
    "* [Task 18. Taking only Total and date columns with loc and craete a new df named ecom2](#19)\n",
    "* [Task 19. Taking only InvoiceNo and CustomerID columns with iloc and craete a new df named ecom3](#20)\n",
    "* [Task 20. Combining ecom2 and ecom3 with concat() method](#21)\n",
    "* [Task 21. Combining the common (intersected) values of ecom2 and ecom3 with merge() method](#22)\n",
    "* [Task 22. Combining ecom2 and ecom3 with join() method](#23)\n",
    "* [THE END OF THE ASSIGNMENT 02](#24)"
   ]
  },
  {
   "cell_type": "markdown",
   "id": "9efe4844",
   "metadata": {},
   "source": [
    "<a id=\"toc\"></a>\n",
    "\n",
    "## <p style=\"background-color:#9d4f8c; font-family:newtimeroman; color:#FFF9ED; font-size:150%; text-align:center; border-radius:10px 10px;\">CONTEXT</p>\n",
    "\n",
    "<a id=\"0\"></a>\n",
    "<a href=\"#toc\" class=\"btn btn-primary btn-sm\" role=\"button\" aria-pressed=\"true\" \n",
    "style=\"color:blue; background-color:#dfa8e4\" data-toggle=\"popover\">Content</a>\n",
    "\n",
    "A/B testing, one of the most common control methods, is generally preferred to use optimization in digital and web marketing strategies.\n",
    "\n",
    "As a result of the important market analyzes of the team members responsible for market research in our team, we reduced the number of alternatives to two, and now we need to make a decision for these two alternative options.\n",
    "\n",
    "It allows decision makers to choose the best design for a website or service by looking at the analysis results that the Data Science team has done."
   ]
  },
  {
   "cell_type": "markdown",
   "id": "d341d097",
   "metadata": {},
   "source": [
    "<a id=\"toc\"></a>\n",
    "\n",
    "## <p style=\"background-color:#9d4f8c; font-family:newtimeroman; color:#FFF9ED; font-size:150%; text-align:center; border-radius:10px 10px;\">About The Dataset & Atributes</p>\n",
    "\n",
    "<a id=\"00\"></a>\n",
    "<a href=\"#toc\" class=\"btn btn-primary btn-sm\" role=\"button\" aria-pressed=\"true\" \n",
    "style=\"color:blue; background-color:#dfa8e4\" data-toggle=\"popover\">Content</a>\n",
    "\n",
    "Typically web and digital marketing datasets are proprietary and consequently hard to find among publicly available data. However, \n",
    "Kaggle which is a platform have open datasets shared by accounts  has made this dataset containing actual transactions. The dataset is on the site (https://www.kaggle.com/datasets/ilkeryildiz/example-dataset-for-ab-test), where it can be found by the title \"Example Dataset for A/B Test\".\n",
    "\n",
    "**Attribute Information:**\n",
    "\n",
    "**``Campaign Name:``** The name of the campaign.<br>\n",
    "**``Date:``** Date of the record.<br>\n",
    "**``Spend:``** Amount spent on the campaign in dollars.<br>\n",
    "**``of Impressions:``** Number of impressions the ad crossed through the campaign.<br>\n",
    "**``Reach:``** The number of unique impressions received in the ad.<br>\n",
    "**``of Website Clicks:``** Number of website clicks received through the ads.<br>\n",
    "**``of Searches:``** Number of users who performed searches on the website .<br>\n",
    "**``of View Content:``** Number of users who viewed content and products on the website.<br>\n",
    "**``of Add to Cart:``** Number of users who added products to the cart.<br>\n",
    "**``of Purchase:``** Number of purchases.<br>\n",
    "\n",
    "Two campaigns were performed by the company:\n",
    "\n",
    "   **``1.Control Campaign``**<br>\n",
    "   **``2.Test Campaign``**\n",
    "\n",
    "As a result, we will perform A/B testing to find the best campaign for the company to get more customers."
   ]
  },
  {
   "cell_type": "markdown",
   "id": "75d45089",
   "metadata": {},
   "source": [
    "## <p style=\"background-color:#9d4f8c; font-family:newtimeroman; color:#FFF9ED; font-size:150%; text-align:center; border-radius:10px 10px;\">Instructions</p>\n",
    "\n",
    "<a id=\"000\"></a>\n",
    "<a href=\"#toc\" class=\"btn btn-primary btn-sm\" role=\"button\" aria-pressed=\"true\" \n",
    "style=\"color:blue; background-color:#dfa8e4\" data-toggle=\"popover\">Content</a>\n",
    "\n",
    "**In this assignment you're required to handle with the following tasks:** \n",
    "\n",
    "- **Task 01.** Checking the head of the DataFrame.<br>\n",
    "- **Task 02.** How many rows and columns are there?<br>\n",
    "- **Task 03.** What is the average of Product sold and the average price of Product per unit?<br>\n",
    "- **Task 04.** What were the highest and lowest purchase prices?<br>\n",
    "- **Task 05.** Listing the country names and number of their records belongs to each country.<br>\n",
    "- **Task 06.** How many records are as Country United Kingdom?<br>\n",
    "- **Task 07.** Creating a column named \"Total\" which shows the total amount of spend using UnitPrice and Quantity.<br>\n",
    "- **Task 08.** Showing total spending amount according to the Countries and their percentages.<br>\n",
    "- **Task 09.** Which Country spend least?<br>\n",
    "- **Task 10.** Calculating average of spending according to country with apply function  and create a new feature named \"Average_Spend\".<br>\n",
    "- **Task 11.** Calculating average, min, max of spending according to country with agg function and create new features named \"Max_Spend\" and \"Min_Spend\".<br>\n",
    "- **Task 12.** What is the max Total spending in whole dataset and show all records of that spending?<br>\n",
    "- **Task 13.** How many people who live in Spain spend more than average Total?<br>\n",
    "- **Task 14.** Converting datatype of InvoiceDate to datetime and assign it to new column name InvoiceDate2.<br>\n",
    "- **Task 15.** Taking only date values (year-month-day) from InvoiceDate2 and assign it to a new column named \"date\".<br>\n",
    "- **Task 16.** Dropping InvoiceDate2 and InvoiceDate columns permanently.<br>\n",
    "- **Task 17.** Removing A, B, G and E characters at the first 5 rows of \"StockCode\" in ecom dataframe with a string method.<br>\n",
    "- **Task 18.** Taking only Total and date columns with loc and craete a new df named ecom2.<br>\n",
    "- **Task 19.** Taking only InvoiceNo and CustomerID columns with iloc and craete a new df named ecom3.<br>\n",
    "- **Task 20.** Combining ecom2 and ecom3 with concat() method.<br>\n",
    "- **Task 21.** Combining the common (intersected) values of ecom2 and ecom3 with merge() method.<br>\n",
    "- **Task 22.** Combining ecom2 and ecom3 with join() method.<br>"
   ]
  },
  {
   "cell_type": "markdown",
   "id": "344181a6",
   "metadata": {},
   "source": [
    "## <p style=\"background-color:#9d4f8c; font-family:newtimeroman; color:#FFF9ED; font-size:150%; text-align:center; border-radius:10px 10px;\">Importing Libraries Needed In The Case Study</p>\n",
    "\n",
    "<a id=\"1\"></a>\n",
    "<a href=\"#toc\" class=\"btn btn-primary btn-sm\" role=\"button\" aria-pressed=\"true\" \n",
    "style=\"color:blue; background-color:#dfa8e4\" data-toggle=\"popover\">Content</a>"
   ]
  },
  {
   "cell_type": "code",
   "execution_count": 8,
   "id": "48ca2fbf",
   "metadata": {},
   "outputs": [
    {
     "ename": "NameError",
     "evalue": "name 'cf' is not defined",
     "output_type": "error",
     "traceback": [
      "\u001b[1;31m---------------------------------------------------------------------------\u001b[0m",
      "\u001b[1;31mNameError\u001b[0m                                 Traceback (most recent call last)",
      "Input \u001b[1;32mIn [8]\u001b[0m, in \u001b[0;36m<cell line: 23>\u001b[1;34m()\u001b[0m\n\u001b[0;32m     21\u001b[0m \u001b[38;5;28;01mfrom\u001b[39;00m \u001b[38;5;21;01mplotly\u001b[39;00m\u001b[38;5;21;01m.\u001b[39;00m\u001b[38;5;21;01msubplots\u001b[39;00m \u001b[38;5;28;01mimport\u001b[39;00m make_subplots\n\u001b[0;32m     22\u001b[0m \u001b[38;5;28;01mimport\u001b[39;00m \u001b[38;5;21;01mplotly\u001b[39;00m\u001b[38;5;21;01m.\u001b[39;00m\u001b[38;5;21;01mfigure_factory\u001b[39;00m \u001b[38;5;28;01mas\u001b[39;00m \u001b[38;5;21;01mff\u001b[39;00m\n\u001b[1;32m---> 23\u001b[0m \u001b[43mcf\u001b[49m\u001b[38;5;241m.\u001b[39mgo_offline()\n\u001b[0;32m     24\u001b[0m cf\u001b[38;5;241m.\u001b[39mset_config_file(offline\u001b[38;5;241m=\u001b[39m\u001b[38;5;28;01mFalse\u001b[39;00m, world_readable\u001b[38;5;241m=\u001b[39m\u001b[38;5;28;01mTrue\u001b[39;00m)\n\u001b[0;32m     26\u001b[0m \u001b[38;5;66;03m# Ignore Warnings\u001b[39;00m\n",
      "\u001b[1;31mNameError\u001b[0m: name 'cf' is not defined"
     ]
    }
   ],
   "source": [
    "# 1-Import Libraies\n",
    "\n",
    "import numpy as np\n",
    "import pandas as pd \n",
    "\n",
    "import datetime as dt\n",
    "from datetime import datetime\n",
    "\n",
    "import seaborn as sns\n",
    "import matplotlib.pyplot as plt\n",
    "%matplotlib inline\n",
    "import matplotlib.ticker as mticker\n",
    "\n",
    "# Importing plotly and cufflinks in offline mode\n",
    "import plotly \n",
    "import plotly.express as px\n",
    "#import cufflinks as cf\n",
    "import plotly.graph_objs as go\n",
    "import plotly.offline as py\n",
    "from plotly.offline import iplot\n",
    "from plotly.subplots import make_subplots\n",
    "import plotly.figure_factory as ff\n",
    "cf.go_offline()\n",
    "cf.set_config_file(offline=False, world_readable=True)\n",
    "\n",
    "# Ignore Warnings\n",
    "import warnings\n",
    "warnings.filterwarnings(\"ignore\")\n",
    "warnings.warn(\"this will not show\")\n",
    "\n",
    "# Figure&Display options\n",
    "plt.rcParams[\"figure.figsize\"] = (10,6)\n",
    "pd.set_option('max_colwidth',200)\n",
    "pd.set_option('display.max_rows', 1000)\n",
    "pd.set_option('display.max_columns', 200)\n",
    "pd.set_option('display.float_format', lambda x: '%.3f' % x)"
   ]
  },
  {
   "cell_type": "code",
   "execution_count": null,
   "id": "ee4b980b",
   "metadata": {},
   "outputs": [],
   "source": []
  }
 ],
 "metadata": {
  "kernelspec": {
   "display_name": "Python 3 (ipykernel)",
   "language": "python",
   "name": "python3"
  },
  "language_info": {
   "codemirror_mode": {
    "name": "ipython",
    "version": 3
   },
   "file_extension": ".py",
   "mimetype": "text/x-python",
   "name": "python",
   "nbconvert_exporter": "python",
   "pygments_lexer": "ipython3",
   "version": "3.9.12"
  }
 },
 "nbformat": 4,
 "nbformat_minor": 5
}
